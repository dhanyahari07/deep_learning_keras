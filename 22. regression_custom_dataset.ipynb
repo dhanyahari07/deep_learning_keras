{
 "cells": [
  {
   "cell_type": "code",
   "execution_count": 3,
   "metadata": {},
   "outputs": [],
   "source": [
    "from tensorflow.keras.models import Sequential\n",
    "from tensorflow.keras.layers import Dense \n",
    "from tensorflow.keras.optimizers import Adam, SGD\n",
    "\n",
    "%matplotlib inline\n",
    "import matplotlib.pyplot as plt\n",
    "import numpy as np # linear algebra\n",
    "import pandas as pd # data processing, CSV file I/O (e.g. pd.read_csv)"
   ]
  },
  {
   "cell_type": "code",
   "execution_count": 4,
   "metadata": {},
   "outputs": [],
   "source": [
    "df=pd.read_csv('weight-height.csv')\n",
    "X=df[['Height']].values\n",
    "y_true=df[['Weight']].values"
   ]
  },
  {
   "cell_type": "code",
   "execution_count": 5,
   "metadata": {},
   "outputs": [
    {
     "name": "stderr",
     "output_type": "stream",
     "text": [
      "2021-12-21 10:54:54.157739: W tensorflow/stream_executor/platform/default/dso_loader.cc:64] Could not load dynamic library 'libcuda.so.1'; dlerror: libcuda.so.1: cannot open shared object file: No such file or directory; LD_LIBRARY_PATH: /app/lib\n",
      "2021-12-21 10:54:54.157850: W tensorflow/stream_executor/cuda/cuda_driver.cc:269] failed call to cuInit: UNKNOWN ERROR (303)\n",
      "2021-12-21 10:54:54.157959: I tensorflow/stream_executor/cuda/cuda_diagnostics.cc:156] kernel driver does not appear to be running on this host (HP-Laptop-15-da0xxx-def03a20): /proc/driver/nvidia/version does not exist\n",
      "2021-12-21 10:54:54.173928: I tensorflow/core/platform/cpu_feature_guard.cc:151] This TensorFlow binary is optimized with oneAPI Deep Neural Network Library (oneDNN) to use the following CPU instructions in performance-critical operations:  AVX2 FMA\n",
      "To enable them in other operations, rebuild TensorFlow with the appropriate compiler flags.\n"
     ]
    }
   ],
   "source": [
    "model = Sequential()\n",
    "model.add(Dense(1, input_shape=(1,)))"
   ]
  },
  {
   "cell_type": "code",
   "execution_count": 6,
   "metadata": {},
   "outputs": [
    {
     "name": "stdout",
     "output_type": "stream",
     "text": [
      "Model: \"sequential\"\n",
      "_________________________________________________________________\n",
      " Layer (type)                Output Shape              Param #   \n",
      "=================================================================\n",
      " dense (Dense)               (None, 1)                 2         \n",
      "                                                                 \n",
      "=================================================================\n",
      "Total params: 2\n",
      "Trainable params: 2\n",
      "Non-trainable params: 0\n",
      "_________________________________________________________________\n"
     ]
    }
   ],
   "source": [
    "model.summary()"
   ]
  },
  {
   "cell_type": "code",
   "execution_count": 7,
   "metadata": {},
   "outputs": [
    {
     "name": "stderr",
     "output_type": "stream",
     "text": [
      "/home/dhanyaharish/Documents/GitHub/deep-learning/pytorch/DL/lib/python3.9/site-packages/keras/optimizer_v2/adam.py:105: UserWarning: The `lr` argument is deprecated, use `learning_rate` instead.\n",
      "  super(Adam, self).__init__(name, **kwargs)\n"
     ]
    }
   ],
   "source": [
    "model.compile(Adam(lr=0.8), 'mean_squared_error')"
   ]
  },
  {
   "cell_type": "code",
   "execution_count": 8,
   "metadata": {},
   "outputs": [
    {
     "name": "stdout",
     "output_type": "stream",
     "text": [
      "Epoch 1/35\n",
      "91/91 [==============================] - 1s 2ms/step - loss: 3393.7317\n",
      "Epoch 2/35\n",
      "91/91 [==============================] - 0s 1ms/step - loss: 568.9009\n",
      "Epoch 3/35\n",
      "91/91 [==============================] - 0s 1ms/step - loss: 563.9255\n",
      "Epoch 4/35\n",
      "91/91 [==============================] - 0s 1ms/step - loss: 558.6802\n",
      "Epoch 5/35\n",
      "91/91 [==============================] - 0s 1ms/step - loss: 548.0847\n",
      "Epoch 6/35\n",
      "91/91 [==============================] - 0s 2ms/step - loss: 541.9175\n",
      "Epoch 7/35\n",
      "91/91 [==============================] - 0s 2ms/step - loss: 533.6649\n",
      "Epoch 8/35\n",
      "91/91 [==============================] - 0s 1ms/step - loss: 519.9485\n",
      "Epoch 9/35\n",
      "91/91 [==============================] - 0s 1ms/step - loss: 516.5127\n",
      "Epoch 10/35\n",
      "91/91 [==============================] - 0s 1ms/step - loss: 506.2779\n",
      "Epoch 11/35\n",
      "91/91 [==============================] - 0s 1ms/step - loss: 492.0564\n",
      "Epoch 12/35\n",
      "91/91 [==============================] - 0s 1ms/step - loss: 476.9670\n",
      "Epoch 13/35\n",
      "91/91 [==============================] - 0s 2ms/step - loss: 463.0614\n",
      "Epoch 14/35\n",
      "91/91 [==============================] - 0s 2ms/step - loss: 452.8208\n",
      "Epoch 15/35\n",
      "91/91 [==============================] - 0s 1ms/step - loss: 435.1826\n",
      "Epoch 16/35\n",
      "91/91 [==============================] - 0s 1ms/step - loss: 445.5115\n",
      "Epoch 17/35\n",
      "91/91 [==============================] - 0s 2ms/step - loss: 412.1367\n",
      "Epoch 18/35\n",
      "91/91 [==============================] - 0s 2ms/step - loss: 401.3684\n",
      "Epoch 19/35\n",
      "91/91 [==============================] - 0s 1ms/step - loss: 396.7791\n",
      "Epoch 20/35\n",
      "91/91 [==============================] - 0s 1ms/step - loss: 373.4278\n",
      "Epoch 21/35\n",
      "91/91 [==============================] - 0s 1ms/step - loss: 364.2781\n",
      "Epoch 22/35\n",
      "91/91 [==============================] - 0s 1ms/step - loss: 355.3451\n",
      "Epoch 23/35\n",
      "91/91 [==============================] - 0s 2ms/step - loss: 347.8373\n",
      "Epoch 24/35\n",
      "91/91 [==============================] - 0s 2ms/step - loss: 351.5118\n",
      "Epoch 25/35\n",
      "91/91 [==============================] - 0s 2ms/step - loss: 318.8512\n",
      "Epoch 26/35\n",
      "91/91 [==============================] - 0s 2ms/step - loss: 310.6370\n",
      "Epoch 27/35\n",
      "91/91 [==============================] - 0s 1ms/step - loss: 291.2127\n",
      "Epoch 28/35\n",
      "91/91 [==============================] - 0s 2ms/step - loss: 284.2910\n",
      "Epoch 29/35\n",
      "91/91 [==============================] - 0s 3ms/step - loss: 276.2195\n",
      "Epoch 30/35\n",
      "91/91 [==============================] - 0s 2ms/step - loss: 268.9122\n",
      "Epoch 31/35\n",
      "91/91 [==============================] - 0s 2ms/step - loss: 254.7065\n",
      "Epoch 32/35\n",
      "91/91 [==============================] - 0s 2ms/step - loss: 250.7308\n",
      "Epoch 33/35\n",
      "91/91 [==============================] - 0s 1ms/step - loss: 247.7603\n",
      "Epoch 34/35\n",
      "91/91 [==============================] - 0s 1ms/step - loss: 231.8054\n",
      "Epoch 35/35\n",
      "91/91 [==============================] - 0s 1ms/step - loss: 240.0707\n"
     ]
    },
    {
     "data": {
      "text/plain": [
       "<keras.callbacks.History at 0x7f0a243ab940>"
      ]
     },
     "execution_count": 8,
     "metadata": {},
     "output_type": "execute_result"
    }
   ],
   "source": [
    "model.fit(X,y_true, epochs=35, batch_size=110)"
   ]
  },
  {
   "cell_type": "code",
   "execution_count": 9,
   "metadata": {},
   "outputs": [],
   "source": [
    "y_pred= model.predict(X)"
   ]
  },
  {
   "cell_type": "code",
   "execution_count": 10,
   "metadata": {},
   "outputs": [
    {
     "data": {
      "text/plain": [
       "[<matplotlib.lines.Line2D at 0x7f0a25d79550>]"
      ]
     },
     "execution_count": 10,
     "metadata": {},
     "output_type": "execute_result"
    },
    {
     "data": {
      "image/png": "[encoded data removed]",
      "text/plain": [
       "<Figure size 432x288 with 1 Axes>"
      ]
     },
     "metadata": {
      "needs_background": "light"
     },
     "output_type": "display_data"
    }
   ],
   "source": [
    "df.plot(kind='scatter',\n",
    "       x='Height',\n",
    "       y='Weight', title='Weight and Height in adults')\n",
    "plt.plot(X, y_pred, color='red', linewidth=3)"
   ]
  },
  {
   "cell_type": "code",
   "execution_count": 11,
   "metadata": {},
   "outputs": [],
   "source": [
    "w,b=model.get_weights()"
   ]
  },
  {
   "cell_type": "code",
   "execution_count": 12,
   "metadata": {},
   "outputs": [
    {
     "data": {
      "text/plain": [
       "array([[5.6525426]], dtype=float32)"
      ]
     },
     "execution_count": 12,
     "metadata": {},
     "output_type": "execute_result"
    }
   ],
   "source": [
    "w"
   ]
  },
  {
   "cell_type": "code",
   "execution_count": 13,
   "metadata": {},
   "outputs": [
    {
     "data": {
      "text/plain": [
       "array([-210.28432], dtype=float32)"
      ]
     },
     "execution_count": 13,
     "metadata": {},
     "output_type": "execute_result"
    }
   ],
   "source": [
    "b"
   ]
  },
  {
   "cell_type": "markdown",
   "metadata": {},
   "source": [
    "# House price"
   ]
  },
  {
   "cell_type": "code",
   "execution_count": 15,
   "metadata": {},
   "outputs": [],
   "source": [
    "import pandas as pd\n",
    "import numpy as np\n",
    "import matplotlib.pyplot as plt\n",
    "import seaborn as sns\n",
    "\n",
    "%matplotlib inline"
   ]
  },
  {
   "cell_type": "code",
   "execution_count": 16,
   "metadata": {},
   "outputs": [
    {
     "data": {
      "text/html": [
       "<div>\n",
       "<style scoped>\n",
       "    .dataframe tbody tr th:only-of-type {\n",
       "        vertical-align: middle;\n",
       "    }\n",
       "\n",
       "    .dataframe tbody tr th {\n",
       "        vertical-align: top;\n",
       "    }\n",
       "\n",
       "    .dataframe thead th {\n",
       "        text-align: right;\n",
       "    }\n",
       "</style>\n",
       "<table border=\"1\" class=\"dataframe\">\n",
       "  <thead>\n",
       "    <tr style=\"text-align: right;\">\n",
       "      <th></th>\n",
       "      <th>Avg. Area Income</th>\n",
       "      <th>Avg. Area House Age</th>\n",
       "      <th>Avg. Area Number of Rooms</th>\n",
       "      <th>Avg. Area Number of Bedrooms</th>\n",
       "      <th>Area Population</th>\n",
       "      <th>Price</th>\n",
       "      <th>Address</th>\n",
       "    </tr>\n",
       "  </thead>\n",
       "  <tbody>\n",
       "    <tr>\n",
       "      <th>0</th>\n",
       "      <td>79545.458574</td>\n",
       "      <td>5.682861</td>\n",
       "      <td>7.009188</td>\n",
       "      <td>4.09</td>\n",
       "      <td>23086.800503</td>\n",
       "      <td>1.059034e+06</td>\n",
       "      <td>208 Michael Ferry Apt. 674\\nLaurabury, NE 3701...</td>\n",
       "    </tr>\n",
       "    <tr>\n",
       "      <th>1</th>\n",
       "      <td>79248.642455</td>\n",
       "      <td>6.002900</td>\n",
       "      <td>6.730821</td>\n",
       "      <td>3.09</td>\n",
       "      <td>40173.072174</td>\n",
       "      <td>1.505891e+06</td>\n",
       "      <td>188 Johnson Views Suite 079\\nLake Kathleen, CA...</td>\n",
       "    </tr>\n",
       "    <tr>\n",
       "      <th>2</th>\n",
       "      <td>61287.067179</td>\n",
       "      <td>5.865890</td>\n",
       "      <td>8.512727</td>\n",
       "      <td>5.13</td>\n",
       "      <td>36882.159400</td>\n",
       "      <td>1.058988e+06</td>\n",
       "      <td>9127 Elizabeth Stravenue\\nDanieltown, WI 06482...</td>\n",
       "    </tr>\n",
       "    <tr>\n",
       "      <th>3</th>\n",
       "      <td>63345.240046</td>\n",
       "      <td>7.188236</td>\n",
       "      <td>5.586729</td>\n",
       "      <td>3.26</td>\n",
       "      <td>34310.242831</td>\n",
       "      <td>1.260617e+06</td>\n",
       "      <td>USS Barnett\\nFPO AP 44820</td>\n",
       "    </tr>\n",
       "    <tr>\n",
       "      <th>4</th>\n",
       "      <td>59982.197226</td>\n",
       "      <td>5.040555</td>\n",
       "      <td>7.839388</td>\n",
       "      <td>4.23</td>\n",
       "      <td>26354.109472</td>\n",
       "      <td>6.309435e+05</td>\n",
       "      <td>USNS Raymond\\nFPO AE 09386</td>\n",
       "    </tr>\n",
       "  </tbody>\n",
       "</table>\n",
       "</div>"
      ],
      "text/plain": [
       "   Avg. Area Income  Avg. Area House Age  Avg. Area Number of Rooms  \\\n",
       "0      79545.458574             5.682861                   7.009188   \n",
       "1      79248.642455             6.002900                   6.730821   \n",
       "2      61287.067179             5.865890                   8.512727   \n",
       "3      63345.240046             7.188236                   5.586729   \n",
       "4      59982.197226             5.040555                   7.839388   \n",
       "\n",
       "   Avg. Area Number of Bedrooms  Area Population         Price  \\\n",
       "0                          4.09     23086.800503  1.059034e+06   \n",
       "1                          3.09     40173.072174  1.505891e+06   \n",
       "2                          5.13     36882.159400  1.058988e+06   \n",
       "3                          3.26     34310.242831  1.260617e+06   \n",
       "4                          4.23     26354.109472  6.309435e+05   \n",
       "\n",
       "                                             Address  \n",
       "0  208 Michael Ferry Apt. 674\\nLaurabury, NE 3701...  \n",
       "1  188 Johnson Views Suite 079\\nLake Kathleen, CA...  \n",
       "2  9127 Elizabeth Stravenue\\nDanieltown, WI 06482...  \n",
       "3                          USS Barnett\\nFPO AP 44820  \n",
       "4                         USNS Raymond\\nFPO AE 09386  "
      ]
     },
     "execution_count": 16,
     "metadata": {},
     "output_type": "execute_result"
    }
   ],
   "source": [
    "USAhousing = pd.read_csv('USA_Housing.csv')\n",
    "USAhousing.head()"
   ]
  },
  {
   "cell_type": "code",
   "execution_count": 17,
   "metadata": {},
   "outputs": [
    {
     "name": "stdout",
     "output_type": "stream",
     "text": [
      "<class 'pandas.core.frame.DataFrame'>\n",
      "RangeIndex: 5000 entries, 0 to 4999\n",
      "Data columns (total 7 columns):\n",
      " #   Column                        Non-Null Count  Dtype  \n",
      "---  ------                        --------------  -----  \n",
      " 0   Avg. Area Income              5000 non-null   float64\n",
      " 1   Avg. Area House Age           5000 non-null   float64\n",
      " 2   Avg. Area Number of Rooms     5000 non-null   float64\n",
      " 3   Avg. Area Number of Bedrooms  5000 non-null   float64\n",
      " 4   Area Population               5000 non-null   float64\n",
      " 5   Price                         5000 non-null   float64\n",
      " 6   Address                       5000 non-null   object \n",
      "dtypes: float64(6), object(1)\n",
      "memory usage: 273.6+ KB\n"
     ]
    }
   ],
   "source": [
    "USAhousing.info()"
   ]
  },
  {
   "cell_type": "code",
   "execution_count": 18,
   "metadata": {},
   "outputs": [
    {
     "data": {
      "text/html": [
       "<div>\n",
       "<style scoped>\n",
       "    .dataframe tbody tr th:only-of-type {\n",
       "        vertical-align: middle;\n",
       "    }\n",
       "\n",
       "    .dataframe tbody tr th {\n",
       "        vertical-align: top;\n",
       "    }\n",
       "\n",
       "    .dataframe thead th {\n",
       "        text-align: right;\n",
       "    }\n",
       "</style>\n",
       "<table border=\"1\" class=\"dataframe\">\n",
       "  <thead>\n",
       "    <tr style=\"text-align: right;\">\n",
       "      <th></th>\n",
       "      <th>Avg. Area Income</th>\n",
       "      <th>Avg. Area House Age</th>\n",
       "      <th>Avg. Area Number of Rooms</th>\n",
       "      <th>Avg. Area Number of Bedrooms</th>\n",
       "      <th>Area Population</th>\n",
       "      <th>Price</th>\n",
       "    </tr>\n",
       "  </thead>\n",
       "  <tbody>\n",
       "    <tr>\n",
       "      <th>count</th>\n",
       "      <td>5000.000000</td>\n",
       "      <td>5000.000000</td>\n",
       "      <td>5000.000000</td>\n",
       "      <td>5000.000000</td>\n",
       "      <td>5000.000000</td>\n",
       "      <td>5.000000e+03</td>\n",
       "    </tr>\n",
       "    <tr>\n",
       "      <th>mean</th>\n",
       "      <td>68583.108984</td>\n",
       "      <td>5.977222</td>\n",
       "      <td>6.987792</td>\n",
       "      <td>3.981330</td>\n",
       "      <td>36163.516039</td>\n",
       "      <td>1.232073e+06</td>\n",
       "    </tr>\n",
       "    <tr>\n",
       "      <th>std</th>\n",
       "      <td>10657.991214</td>\n",
       "      <td>0.991456</td>\n",
       "      <td>1.005833</td>\n",
       "      <td>1.234137</td>\n",
       "      <td>9925.650114</td>\n",
       "      <td>3.531176e+05</td>\n",
       "    </tr>\n",
       "    <tr>\n",
       "      <th>min</th>\n",
       "      <td>17796.631190</td>\n",
       "      <td>2.644304</td>\n",
       "      <td>3.236194</td>\n",
       "      <td>2.000000</td>\n",
       "      <td>172.610686</td>\n",
       "      <td>1.593866e+04</td>\n",
       "    </tr>\n",
       "    <tr>\n",
       "      <th>25%</th>\n",
       "      <td>61480.562388</td>\n",
       "      <td>5.322283</td>\n",
       "      <td>6.299250</td>\n",
       "      <td>3.140000</td>\n",
       "      <td>29403.928702</td>\n",
       "      <td>9.975771e+05</td>\n",
       "    </tr>\n",
       "    <tr>\n",
       "      <th>50%</th>\n",
       "      <td>68804.286404</td>\n",
       "      <td>5.970429</td>\n",
       "      <td>7.002902</td>\n",
       "      <td>4.050000</td>\n",
       "      <td>36199.406689</td>\n",
       "      <td>1.232669e+06</td>\n",
       "    </tr>\n",
       "    <tr>\n",
       "      <th>75%</th>\n",
       "      <td>75783.338666</td>\n",
       "      <td>6.650808</td>\n",
       "      <td>7.665871</td>\n",
       "      <td>4.490000</td>\n",
       "      <td>42861.290769</td>\n",
       "      <td>1.471210e+06</td>\n",
       "    </tr>\n",
       "    <tr>\n",
       "      <th>max</th>\n",
       "      <td>107701.748378</td>\n",
       "      <td>9.519088</td>\n",
       "      <td>10.759588</td>\n",
       "      <td>6.500000</td>\n",
       "      <td>69621.713378</td>\n",
       "      <td>2.469066e+06</td>\n",
       "    </tr>\n",
       "  </tbody>\n",
       "</table>\n",
       "</div>"
      ],
      "text/plain": [
       "       Avg. Area Income  Avg. Area House Age  Avg. Area Number of Rooms  \\\n",
       "count       5000.000000          5000.000000                5000.000000   \n",
       "mean       68583.108984             5.977222                   6.987792   \n",
       "std        10657.991214             0.991456                   1.005833   \n",
       "min        17796.631190             2.644304                   3.236194   \n",
       "25%        61480.562388             5.322283                   6.299250   \n",
       "50%        68804.286404             5.970429                   7.002902   \n",
       "75%        75783.338666             6.650808                   7.665871   \n",
       "max       107701.748378             9.519088                  10.759588   \n",
       "\n",
       "       Avg. Area Number of Bedrooms  Area Population         Price  \n",
       "count                   5000.000000      5000.000000  5.000000e+03  \n",
       "mean                       3.981330     36163.516039  1.232073e+06  \n",
       "std                        1.234137      9925.650114  3.531176e+05  \n",
       "min                        2.000000       172.610686  1.593866e+04  \n",
       "25%                        3.140000     29403.928702  9.975771e+05  \n",
       "50%                        4.050000     36199.406689  1.232669e+06  \n",
       "75%                        4.490000     42861.290769  1.471210e+06  \n",
       "max                        6.500000     69621.713378  2.469066e+06  "
      ]
     },
     "execution_count": 18,
     "metadata": {},
     "output_type": "execute_result"
    }
   ],
   "source": [
    "USAhousing.describe()"
   ]
  },
  {
   "cell_type": "code",
   "execution_count": 19,
   "metadata": {},
   "outputs": [],
   "source": [
    "X = USAhousing[['Avg. Area Income', 'Avg. Area House Age', 'Avg. Area Number of Rooms',\n",
    "               'Avg. Area Number of Bedrooms', 'Area Population']]\n",
    "y = USAhousing['Price']"
   ]
  },
  {
   "cell_type": "code",
   "execution_count": 20,
   "metadata": {},
   "outputs": [],
   "source": [
    "from sklearn.model_selection import train_test_split\n",
    "\n",
    "X_train, X_test, y_train, y_test = train_test_split(X, y, test_size=0.3, random_state=42)"
   ]
  },
  {
   "cell_type": "code",
   "execution_count": 21,
   "metadata": {},
   "outputs": [],
   "source": [
    "from sklearn.preprocessing import StandardScaler\n",
    "from sklearn.pipeline import Pipeline\n",
    "\n",
    "pipeline = Pipeline([\n",
    "    ('std_scalar', StandardScaler())\n",
    "])\n",
    "\n",
    "X_train = pipeline.fit_transform(X_train)\n",
    "X_test = pipeline.transform(X_test)"
   ]
  },
  {
   "cell_type": "code",
   "execution_count": 22,
   "metadata": {},
   "outputs": [],
   "source": [
    "from tensorflow.keras.models import Sequential\n",
    "from tensorflow.keras.layers import Input, Dense, Activation, Dropout\n",
    "from tensorflow.keras.optimizers import Adam\n",
    "\n"
   ]
  },
  {
   "cell_type": "code",
   "execution_count": 23,
   "metadata": {},
   "outputs": [],
   "source": [
    "X_train = np.array(X_train)\n",
    "X_test = np.array(X_test)\n",
    "y_train = np.array(y_train)\n",
    "y_test = np.array(y_test)\n",
    "\n"
   ]
  },
  {
   "cell_type": "code",
   "execution_count": 24,
   "metadata": {},
   "outputs": [],
   "source": [
    "model = Sequential()\n",
    "\n"
   ]
  },
  {
   "cell_type": "code",
   "execution_count": 25,
   "metadata": {},
   "outputs": [],
   "source": [
    "model.add(Dense(X_train.shape[1], activation='relu'))\n",
    "model.add(Dense(32, activation='relu'))\n",
    "# model.add(Dropout(0.2))\n",
    "\n",
    "model.add(Dense(64, activation='relu'))\n",
    "# model.add(Dropout(0.2))\n",
    "\n",
    "model.add(Dense(128, activation='relu'))\n",
    "# model.add(Dropout(0.2))\n",
    "\n",
    "model.add(Dense(512, activation='relu'))\n",
    "model.add(Dropout(0.1))\n",
    "model.add(Dense(1))\n",
    "\n"
   ]
  },
  {
   "cell_type": "code",
   "execution_count": 26,
   "metadata": {},
   "outputs": [],
   "source": [
    "model.compile(optimizer=Adam(0.00001), loss='mse')\n",
    "\n"
   ]
  },
  {
   "cell_type": "code",
   "execution_count": 27,
   "metadata": {},
   "outputs": [
    {
     "name": "stdout",
     "output_type": "stream",
     "text": [
      "Epoch 1/100\n",
      "3500/3500 [==============================] - 8s 2ms/step - loss: 1635953803264.0000 - val_loss: 1658077184000.0000\n",
      "Epoch 2/100\n",
      "3500/3500 [==============================] - 8s 2ms/step - loss: 1635052421120.0000 - val_loss: 1655852498944.0000\n",
      "Epoch 3/100\n",
      "3500/3500 [==============================] - 8s 2ms/step - loss: 1629861969920.0000 - val_loss: 1646398275584.0000\n",
      "Epoch 4/100\n",
      "3500/3500 [==============================] - 8s 2ms/step - loss: 1613236797440.0000 - val_loss: 1620127907840.0000\n",
      "Epoch 5/100\n",
      "3500/3500 [==============================] - 7s 2ms/step - loss: 1573413060608.0000 - val_loss: 1562542342144.0000\n",
      "Epoch 6/100\n",
      "3500/3500 [==============================] - 7s 2ms/step - loss: 1493395046400.0000 - val_loss: 1454344372224.0000\n",
      "Epoch 7/100\n",
      "3500/3500 [==============================] - 7s 2ms/step - loss: 1353996828672.0000 - val_loss: 1277266886656.0000\n",
      "Epoch 8/100\n",
      "3500/3500 [==============================] - 7s 2ms/step - loss: 1144491343872.0000 - val_loss: 1029219090432.0000\n",
      "Epoch 9/100\n",
      "3500/3500 [==============================] - 7s 2ms/step - loss: 882553257984.0000 - val_loss: 752873111552.0000\n",
      "Epoch 10/100\n",
      "3500/3500 [==============================] - 8s 2ms/step - loss: 638011244544.0000 - val_loss: 538141097984.0000\n",
      "Epoch 11/100\n",
      "3500/3500 [==============================] - 7s 2ms/step - loss: 485652365312.0000 - val_loss: 430031601664.0000\n",
      "Epoch 12/100\n",
      "3500/3500 [==============================] - 7s 2ms/step - loss: 417854488576.0000 - val_loss: 382800134144.0000\n",
      "Epoch 13/100\n",
      "3500/3500 [==============================] - 7s 2ms/step - loss: 381805461504.0000 - val_loss: 354573975552.0000\n",
      "Epoch 14/100\n",
      "3500/3500 [==============================] - 7s 2ms/step - loss: 356820484096.0000 - val_loss: 333039960064.0000\n",
      "Epoch 15/100\n",
      "3500/3500 [==============================] - 7s 2ms/step - loss: 337333583872.0000 - val_loss: 314754629632.0000\n",
      "Epoch 16/100\n",
      "3500/3500 [==============================] - 7s 2ms/step - loss: 317566877696.0000 - val_loss: 297380610048.0000\n",
      "Epoch 17/100\n",
      "3500/3500 [==============================] - 7s 2ms/step - loss: 300168478720.0000 - val_loss: 281220513792.0000\n",
      "Epoch 18/100\n",
      "3500/3500 [==============================] - 7s 2ms/step - loss: 282472120320.0000 - val_loss: 266131324928.0000\n",
      "Epoch 19/100\n",
      "3500/3500 [==============================] - 7s 2ms/step - loss: 266640310272.0000 - val_loss: 251655356416.0000\n",
      "Epoch 20/100\n",
      "3500/3500 [==============================] - 7s 2ms/step - loss: 251346386944.0000 - val_loss: 238068432896.0000\n",
      "Epoch 21/100\n",
      "3500/3500 [==============================] - 7s 2ms/step - loss: 236915638272.0000 - val_loss: 225116487680.0000\n",
      "Epoch 22/100\n",
      "3500/3500 [==============================] - 7s 2ms/step - loss: 224095076352.0000 - val_loss: 212744601600.0000\n",
      "Epoch 23/100\n",
      "3500/3500 [==============================] - 6s 2ms/step - loss: 210991988736.0000 - val_loss: 201292283904.0000\n",
      "Epoch 24/100\n",
      "3500/3500 [==============================] - 8s 2ms/step - loss: 198851887104.0000 - val_loss: 190367514624.0000\n",
      "Epoch 25/100\n",
      "3500/3500 [==============================] - 7s 2ms/step - loss: 187626045440.0000 - val_loss: 179978354688.0000\n",
      "Epoch 26/100\n",
      "3500/3500 [==============================] - 8s 2ms/step - loss: 175760326656.0000 - val_loss: 170137468928.0000\n",
      "Epoch 27/100\n",
      "3500/3500 [==============================] - 9s 3ms/step - loss: 166151028736.0000 - val_loss: 160658309120.0000\n",
      "Epoch 28/100\n",
      "3500/3500 [==============================] - 9s 2ms/step - loss: 156162752512.0000 - val_loss: 151714627584.0000\n",
      "Epoch 29/100\n",
      "3500/3500 [==============================] - 8s 2ms/step - loss: 147327647744.0000 - val_loss: 143036743680.0000\n",
      "Epoch 30/100\n",
      "3500/3500 [==============================] - 8s 2ms/step - loss: 138104963072.0000 - val_loss: 134850183168.0000\n",
      "Epoch 31/100\n",
      "3500/3500 [==============================] - 8s 2ms/step - loss: 130577686528.0000 - val_loss: 127161532416.0000\n",
      "Epoch 32/100\n",
      "3500/3500 [==============================] - 9s 3ms/step - loss: 122663698432.0000 - val_loss: 119782383616.0000\n",
      "Epoch 33/100\n",
      "3500/3500 [==============================] - 7s 2ms/step - loss: 115369336832.0000 - val_loss: 112852918272.0000\n",
      "Epoch 34/100\n",
      "3500/3500 [==============================] - 9s 3ms/step - loss: 108420562944.0000 - val_loss: 106187038720.0000\n",
      "Epoch 35/100\n",
      "3500/3500 [==============================] - 8s 2ms/step - loss: 102048710656.0000 - val_loss: 99797106688.0000\n",
      "Epoch 36/100\n",
      "3500/3500 [==============================] - 8s 2ms/step - loss: 96203440128.0000 - val_loss: 93812400128.0000\n",
      "Epoch 37/100\n",
      "3500/3500 [==============================] - 8s 2ms/step - loss: 89853771776.0000 - val_loss: 88197513216.0000\n",
      "Epoch 38/100\n",
      "3500/3500 [==============================] - 8s 2ms/step - loss: 84819476480.0000 - val_loss: 82890702848.0000\n",
      "Epoch 39/100\n",
      "3500/3500 [==============================] - 8s 2ms/step - loss: 79577890816.0000 - val_loss: 77813587968.0000\n",
      "Epoch 40/100\n",
      "3500/3500 [==============================] - 7s 2ms/step - loss: 74603896832.0000 - val_loss: 73137872896.0000\n",
      "Epoch 41/100\n",
      "3500/3500 [==============================] - 8s 2ms/step - loss: 70442762240.0000 - val_loss: 68787232768.0000\n",
      "Epoch 42/100\n",
      "3500/3500 [==============================] - 8s 2ms/step - loss: 66053988352.0000 - val_loss: 64685776896.0000\n",
      "Epoch 43/100\n",
      "3500/3500 [==============================] - 7s 2ms/step - loss: 62111784960.0000 - val_loss: 60847669248.0000\n",
      "Epoch 44/100\n",
      "3500/3500 [==============================] - 7s 2ms/step - loss: 58676248576.0000 - val_loss: 57253974016.0000\n",
      "Epoch 45/100\n",
      "3500/3500 [==============================] - 7s 2ms/step - loss: 55279022080.0000 - val_loss: 53960044544.0000\n",
      "Epoch 46/100\n",
      "3500/3500 [==============================] - 7s 2ms/step - loss: 52007505920.0000 - val_loss: 50946207744.0000\n",
      "Epoch 47/100\n",
      "3500/3500 [==============================] - 7s 2ms/step - loss: 49657823232.0000 - val_loss: 48150245376.0000\n",
      "Epoch 48/100\n",
      "3500/3500 [==============================] - 8s 2ms/step - loss: 46732009472.0000 - val_loss: 45587525632.0000\n",
      "Epoch 49/100\n",
      "3500/3500 [==============================] - 7s 2ms/step - loss: 44388970496.0000 - val_loss: 43270516736.0000\n",
      "Epoch 50/100\n",
      "3500/3500 [==============================] - 7s 2ms/step - loss: 42363363328.0000 - val_loss: 41212805120.0000\n",
      "Epoch 51/100\n",
      "3500/3500 [==============================] - 7s 2ms/step - loss: 40231239680.0000 - val_loss: 39380217856.0000\n",
      "Epoch 52/100\n",
      "3500/3500 [==============================] - 7s 2ms/step - loss: 38473502720.0000 - val_loss: 37698072576.0000\n",
      "Epoch 53/100\n",
      "3500/3500 [==============================] - 7s 2ms/step - loss: 37452234752.0000 - val_loss: 36178087936.0000\n",
      "Epoch 54/100\n",
      "3500/3500 [==============================] - 7s 2ms/step - loss: 35676377088.0000 - val_loss: 34848526336.0000\n",
      "Epoch 55/100\n",
      "3500/3500 [==============================] - 7s 2ms/step - loss: 34630811648.0000 - val_loss: 33617057792.0000\n",
      "Epoch 56/100\n",
      "3500/3500 [==============================] - 7s 2ms/step - loss: 33731958784.0000 - val_loss: 32534831104.0000\n",
      "Epoch 57/100\n",
      "3500/3500 [==============================] - 7s 2ms/step - loss: 32478619648.0000 - val_loss: 31516649472.0000\n",
      "Epoch 58/100\n",
      "3500/3500 [==============================] - 8s 2ms/step - loss: 31321735168.0000 - val_loss: 30614380544.0000\n",
      "Epoch 59/100\n",
      "3500/3500 [==============================] - 8s 2ms/step - loss: 30775160832.0000 - val_loss: 29785683968.0000\n",
      "Epoch 60/100\n",
      "3500/3500 [==============================] - 8s 2ms/step - loss: 29867726848.0000 - val_loss: 29005561856.0000\n",
      "Epoch 61/100\n",
      "3500/3500 [==============================] - 9s 2ms/step - loss: 29399539712.0000 - val_loss: 28306051072.0000\n",
      "Epoch 62/100\n",
      "3500/3500 [==============================] - 10s 3ms/step - loss: 28692645888.0000 - val_loss: 27623632896.0000\n",
      "Epoch 63/100\n",
      "3500/3500 [==============================] - 7s 2ms/step - loss: 28042313728.0000 - val_loss: 27006953472.0000\n",
      "Epoch 64/100\n",
      "3500/3500 [==============================] - 8s 2ms/step - loss: 27686893568.0000 - val_loss: 26382770176.0000\n",
      "Epoch 65/100\n",
      "3500/3500 [==============================] - 8s 2ms/step - loss: 26977736704.0000 - val_loss: 25855672320.0000\n",
      "Epoch 66/100\n",
      "3500/3500 [==============================] - 8s 2ms/step - loss: 26158166016.0000 - val_loss: 25311537152.0000\n",
      "Epoch 67/100\n",
      "3500/3500 [==============================] - 9s 3ms/step - loss: 25834913792.0000 - val_loss: 24804415488.0000\n",
      "Epoch 68/100\n",
      "3500/3500 [==============================] - 9s 3ms/step - loss: 25418229760.0000 - val_loss: 24292868096.0000\n",
      "Epoch 69/100\n",
      "3500/3500 [==============================] - 10s 3ms/step - loss: 24954613760.0000 - val_loss: 23814774784.0000\n",
      "Epoch 70/100\n",
      "3500/3500 [==============================] - 8s 2ms/step - loss: 24561846272.0000 - val_loss: 23366320128.0000\n",
      "Epoch 71/100\n",
      "3500/3500 [==============================] - 7s 2ms/step - loss: 24040636416.0000 - val_loss: 22917419008.0000\n",
      "Epoch 72/100\n",
      "3500/3500 [==============================] - 7s 2ms/step - loss: 23777105920.0000 - val_loss: 22493847552.0000\n",
      "Epoch 73/100\n",
      "3500/3500 [==============================] - 7s 2ms/step - loss: 23526733824.0000 - val_loss: 22103572480.0000\n",
      "Epoch 74/100\n",
      "3500/3500 [==============================] - 7s 2ms/step - loss: 23157272576.0000 - val_loss: 21729390592.0000\n",
      "Epoch 75/100\n",
      "3500/3500 [==============================] - 7s 2ms/step - loss: 22617264128.0000 - val_loss: 21353230336.0000\n",
      "Epoch 76/100\n",
      "3500/3500 [==============================] - 8s 2ms/step - loss: 22052182016.0000 - val_loss: 20989837312.0000\n",
      "Epoch 77/100\n",
      "3500/3500 [==============================] - 8s 2ms/step - loss: 21698834432.0000 - val_loss: 20653787136.0000\n",
      "Epoch 78/100\n",
      "3500/3500 [==============================] - 8s 2ms/step - loss: 21576118272.0000 - val_loss: 20338296832.0000\n",
      "Epoch 79/100\n",
      "3500/3500 [==============================] - 8s 2ms/step - loss: 21306048512.0000 - val_loss: 20021624832.0000\n",
      "Epoch 80/100\n",
      "3500/3500 [==============================] - 8s 2ms/step - loss: 20926042112.0000 - val_loss: 19787978752.0000\n",
      "Epoch 81/100\n",
      "3500/3500 [==============================] - 7s 2ms/step - loss: 20370231296.0000 - val_loss: 19450345472.0000\n",
      "Epoch 82/100\n",
      "3500/3500 [==============================] - 7s 2ms/step - loss: 20459085824.0000 - val_loss: 19166240768.0000\n",
      "Epoch 83/100\n",
      "3500/3500 [==============================] - 8s 2ms/step - loss: 19754006528.0000 - val_loss: 18897508352.0000\n",
      "Epoch 84/100\n",
      "3500/3500 [==============================] - 7s 2ms/step - loss: 19779751936.0000 - val_loss: 18632701952.0000\n",
      "Epoch 85/100\n",
      "3500/3500 [==============================] - 7s 2ms/step - loss: 19579791360.0000 - val_loss: 18398793728.0000\n",
      "Epoch 86/100\n",
      "3500/3500 [==============================] - 7s 2ms/step - loss: 19404214272.0000 - val_loss: 18138058752.0000\n",
      "Epoch 87/100\n",
      "3500/3500 [==============================] - 8s 2ms/step - loss: 19179780096.0000 - val_loss: 17907353600.0000\n",
      "Epoch 88/100\n",
      "3500/3500 [==============================] - 9s 3ms/step - loss: 18863675392.0000 - val_loss: 17685270528.0000\n",
      "Epoch 89/100\n",
      "3500/3500 [==============================] - 8s 2ms/step - loss: 18762551296.0000 - val_loss: 17471350784.0000\n",
      "Epoch 90/100\n",
      "3500/3500 [==============================] - 8s 2ms/step - loss: 18440212480.0000 - val_loss: 17256726528.0000\n",
      "Epoch 91/100\n",
      "3500/3500 [==============================] - 7s 2ms/step - loss: 18281404416.0000 - val_loss: 17056271360.0000\n",
      "Epoch 92/100\n",
      "3500/3500 [==============================] - 7s 2ms/step - loss: 18379470848.0000 - val_loss: 16856667136.0000\n",
      "Epoch 93/100\n",
      "3500/3500 [==============================] - 7s 2ms/step - loss: 18159589376.0000 - val_loss: 16682936320.0000\n",
      "Epoch 94/100\n",
      "3500/3500 [==============================] - 8s 2ms/step - loss: 17601681408.0000 - val_loss: 16508378112.0000\n",
      "Epoch 95/100\n",
      "3500/3500 [==============================] - 7s 2ms/step - loss: 17464152064.0000 - val_loss: 16368861184.0000\n",
      "Epoch 96/100\n",
      "3500/3500 [==============================] - 8s 2ms/step - loss: 17472722944.0000 - val_loss: 16161255424.0000\n",
      "Epoch 97/100\n",
      "3500/3500 [==============================] - 8s 2ms/step - loss: 17198047232.0000 - val_loss: 16039695360.0000\n",
      "Epoch 98/100\n",
      "3500/3500 [==============================] - 9s 2ms/step - loss: 17113745408.0000 - val_loss: 15844067328.0000\n",
      "Epoch 99/100\n",
      "3500/3500 [==============================] - 8s 2ms/step - loss: 16751351808.0000 - val_loss: 15688097792.0000\n",
      "Epoch 100/100\n",
      "3500/3500 [==============================] - 7s 2ms/step - loss: 16675418112.0000 - val_loss: 15551539200.0000\n"
     ]
    }
   ],
   "source": [
    "r = model.fit(X_train, y_train,\n",
    "              validation_data=(X_test,y_test),\n",
    "              batch_size=1,\n",
    "              epochs=100)"
   ]
  },
  {
   "cell_type": "code",
   "execution_count": 30,
   "metadata": {},
   "outputs": [
    {
     "data": {
      "text/html": [
       "<div>\n",
       "<style scoped>\n",
       "    .dataframe tbody tr th:only-of-type {\n",
       "        vertical-align: middle;\n",
       "    }\n",
       "\n",
       "    .dataframe tbody tr th {\n",
       "        vertical-align: top;\n",
       "    }\n",
       "\n",
       "    .dataframe thead th {\n",
       "        text-align: right;\n",
       "    }\n",
       "</style>\n",
       "<table border=\"1\" class=\"dataframe\">\n",
       "  <thead>\n",
       "    <tr style=\"text-align: right;\">\n",
       "      <th></th>\n",
       "      <th>loss</th>\n",
       "      <th>val_loss</th>\n",
       "    </tr>\n",
       "  </thead>\n",
       "  <tbody>\n",
       "    <tr>\n",
       "      <th>0</th>\n",
       "      <td>1.635954e+12</td>\n",
       "      <td>1.658077e+12</td>\n",
       "    </tr>\n",
       "    <tr>\n",
       "      <th>1</th>\n",
       "      <td>1.635052e+12</td>\n",
       "      <td>1.655852e+12</td>\n",
       "    </tr>\n",
       "    <tr>\n",
       "      <th>2</th>\n",
       "      <td>1.629862e+12</td>\n",
       "      <td>1.646398e+12</td>\n",
       "    </tr>\n",
       "    <tr>\n",
       "      <th>3</th>\n",
       "      <td>1.613237e+12</td>\n",
       "      <td>1.620128e+12</td>\n",
       "    </tr>\n",
       "    <tr>\n",
       "      <th>4</th>\n",
       "      <td>1.573413e+12</td>\n",
       "      <td>1.562542e+12</td>\n",
       "    </tr>\n",
       "    <tr>\n",
       "      <th>...</th>\n",
       "      <td>...</td>\n",
       "      <td>...</td>\n",
       "    </tr>\n",
       "    <tr>\n",
       "      <th>95</th>\n",
       "      <td>1.747272e+10</td>\n",
       "      <td>1.616126e+10</td>\n",
       "    </tr>\n",
       "    <tr>\n",
       "      <th>96</th>\n",
       "      <td>1.719805e+10</td>\n",
       "      <td>1.603970e+10</td>\n",
       "    </tr>\n",
       "    <tr>\n",
       "      <th>97</th>\n",
       "      <td>1.711375e+10</td>\n",
       "      <td>1.584407e+10</td>\n",
       "    </tr>\n",
       "    <tr>\n",
       "      <th>98</th>\n",
       "      <td>1.675135e+10</td>\n",
       "      <td>1.568810e+10</td>\n",
       "    </tr>\n",
       "    <tr>\n",
       "      <th>99</th>\n",
       "      <td>1.667542e+10</td>\n",
       "      <td>1.555154e+10</td>\n",
       "    </tr>\n",
       "  </tbody>\n",
       "</table>\n",
       "<p>100 rows × 2 columns</p>\n",
       "</div>"
      ],
      "text/plain": [
       "            loss      val_loss\n",
       "0   1.635954e+12  1.658077e+12\n",
       "1   1.635052e+12  1.655852e+12\n",
       "2   1.629862e+12  1.646398e+12\n",
       "3   1.613237e+12  1.620128e+12\n",
       "4   1.573413e+12  1.562542e+12\n",
       "..           ...           ...\n",
       "95  1.747272e+10  1.616126e+10\n",
       "96  1.719805e+10  1.603970e+10\n",
       "97  1.711375e+10  1.584407e+10\n",
       "98  1.675135e+10  1.568810e+10\n",
       "99  1.667542e+10  1.555154e+10\n",
       "\n",
       "[100 rows x 2 columns]"
      ]
     },
     "execution_count": 30,
     "metadata": {},
     "output_type": "execute_result"
    }
   ],
   "source": [
    "pd.DataFrame(r.history)"
   ]
  },
  {
   "cell_type": "code",
   "execution_count": null,
   "metadata": {},
   "outputs": [],
   "source": []
  }
 ],
 "metadata": {
  "interpreter": {
   "hash": "97630161a1b63923bdd9a0aa586c344c3f95acdbb7ddd6c880d3dbef6642c2e8"
  },
  "kernelspec": {
   "display_name": "Python 3.9.9 64-bit ('DL': venv)",
   "name": "python3"
  },
  "language_info": {
   "codemirror_mode": {
    "name": "ipython",
    "version": 3
   },
   "file_extension": ".py",
   "mimetype": "text/x-python",
   "name": "python",
   "nbconvert_exporter": "python",
   "pygments_lexer": "ipython3",
   "version": "3.9.9"
  },
  "orig_nbformat": 4
 },
 "nbformat": 4,
 "nbformat_minor": 2
}
